{
  "nbformat": 4,
  "nbformat_minor": 0,
  "metadata": {
    "colab": {
      "name": "18520440_VoQuocAn_QLearning_Sarsa.ipynb",
      "provenance": [],
      "authorship_tag": "ABX9TyNWPN+48Xq7kNiw0a3vnMyO",
      "include_colab_link": true
    },
    "kernelspec": {
      "name": "python3",
      "display_name": "Python 3"
    }
  },
  "cells": [
    {
      "cell_type": "markdown",
      "metadata": {
        "id": "view-in-github",
        "colab_type": "text"
      },
      "source": [
        "<a href=\"https://colab.research.google.com/github/anvq38/AI/blob/master/18520440_VoQuocAn_QLearning_Sarsa.ipynb\" target=\"_parent\"><img src=\"https://colab.research.google.com/assets/colab-badge.svg\" alt=\"Open In Colab\"/></a>"
      ]
    },
    {
      "cell_type": "code",
      "metadata": {
        "id": "U4EkfM8V-Bav",
        "colab_type": "code",
        "colab": {}
      },
      "source": [
        "import numpy as np\n",
        "import gym\n",
        "env = gym.make('FrozenLake-v0')"
      ],
      "execution_count": null,
      "outputs": []
    },
    {
      "cell_type": "code",
      "metadata": {
        "id": "4QcQdnn7-VMZ",
        "colab_type": "code",
        "colab": {}
      },
      "source": [
        "def q_learning(env, num_training_episodes=20001, validation_interval=1000, alpha=0.01, gamma=0.9, epsilon_start=0.1, epsilon_min=0.01, epsilon_decay_rate=0.00005, tracking=False):\n",
        "    # Initialize Q(s,a) table\n",
        "    q_values = np.zeros((env.observation_space.n, env.action_space.n))\n",
        "\n",
        "    history_rewards = []\n",
        "\n",
        "    # Train the agent by playing multiple episodes and gain experience\n",
        "    for episode in range(num_training_episodes):\n",
        "        # Reset the environment and get the starting state\n",
        "        state = env.reset()\n",
        "        done = False\n",
        "        total_reward = 0\n",
        "\n",
        "        # If epsilon_decay_rate is 0.0, the value of epsilon is fixed at its starting value\n",
        "        if epsilon_decay_rate == 0.0:\n",
        "            epsilon = epsilon_start\n",
        "        else:\n",
        "            epsilon = epsilon_min + (epsilon_start - epsilon_min)*np.exp(-epsilon_decay_rate*episode)\n",
        "        \n",
        "        # Play one episode\n",
        "        while not done:\n",
        "            # Choose an action following an epsilon-greedy policy\n",
        "            if np.random.uniform(0,1) < epsilon:\n",
        "                action = np.random.randint(env.action_space.n)\n",
        "            else:\n",
        "                action = np.argmax(q_values[state])\n",
        "            \n",
        "            # Take the chosen action and observe the experience\n",
        "            next_state, reward, done, info = env.step(action)\n",
        "\n",
        "            # Use the observation to update Q(s,a)\n",
        "            q_values[state,action] = (1-alpha)*q_values[state,action] + alpha*(reward + gamma * np.max(q_values[next_state]))\n",
        "\n",
        "            total_reward += reward\n",
        "\n",
        "            state = next_state\n",
        "\n",
        "        # After every validation_interval episode, we evaluate the policy obtained so far\n",
        "        # by using it to play 1000 games and computing the average reward.\n",
        "        if (episode % validation_interval) == 0:\n",
        "            avg_reward = play_multiple_times(env, q_values, num_validation_episodes=1000)\n",
        "            history_rewards.append(avg_reward)\n",
        "            if tracking:\n",
        "                print('Episode: {} - epsilon: {} - average reward: {}'.format(episode, epsilon, avg_reward))\n",
        "\n",
        "    return q_values, history_rewards"
      ],
      "execution_count": null,
      "outputs": []
    },
    {
      "cell_type": "code",
      "metadata": {
        "id": "PoI6xw9aGt9i",
        "colab_type": "code",
        "colab": {}
      },
      "source": [
        "def play_multiple_times(env, q_values, num_validation_episodes=1000):\n",
        "    \"\"\"\n",
        "    Check the quality of the policy encoded by the Q-value table.\n",
        "    Use that policy to play multiple games, and get the average reward.\n",
        "    \"\"\"\n",
        "    all_rewards = []\n",
        "\n",
        "    for episode in range(num_validation_episodes):\n",
        "        state = env.reset()\n",
        "        done = False\n",
        "        episode_reward = 0\n",
        "\n",
        "        while not done:\n",
        "            action = np.argmax(q_values[state])\n",
        "            next_state, reward, done, info = env.step(action)\n",
        "\n",
        "            episode_reward += reward\n",
        "            state = next_state\n",
        "            if done:\n",
        "                all_rewards.append(episode_reward)\n",
        "    \n",
        "    return np.mean(all_rewards)"
      ],
      "execution_count": null,
      "outputs": []
    },
    {
      "cell_type": "code",
      "metadata": {
        "id": "sAjCsIJ6J-RW",
        "colab_type": "code",
        "colab": {
          "base_uri": "https://localhost:8080/",
          "height": 374
        },
        "outputId": "02db581b-0064-41e6-c2ef-fa6b67e9580f"
      },
      "source": [
        "# Let's run this line of code multiple times.\n",
        "# Does it succeed to find a good policy all the times?\n",
        "q_values, history_rewards = q_learning(env, num_training_episodes=20001, \n",
        "           validation_interval=1000, alpha=0.02, gamma=0.95, \n",
        "           epsilon_start=0.25, epsilon_min=0.01, epsilon_decay_rate=0.0,\n",
        "           tracking=True)"
      ],
      "execution_count": null,
      "outputs": [
        {
          "output_type": "stream",
          "text": [
            "Episode: 0 - epsilon: 0.25 - average reward: 0.0\n",
            "Episode: 1000 - epsilon: 0.25 - average reward: 0.06\n",
            "Episode: 2000 - epsilon: 0.25 - average reward: 0.064\n",
            "Episode: 3000 - epsilon: 0.25 - average reward: 0.176\n",
            "Episode: 4000 - epsilon: 0.25 - average reward: 0.191\n",
            "Episode: 5000 - epsilon: 0.25 - average reward: 0.167\n",
            "Episode: 6000 - epsilon: 0.25 - average reward: 0.656\n",
            "Episode: 7000 - epsilon: 0.25 - average reward: 0.607\n",
            "Episode: 8000 - epsilon: 0.25 - average reward: 0.648\n",
            "Episode: 9000 - epsilon: 0.25 - average reward: 0.725\n",
            "Episode: 10000 - epsilon: 0.25 - average reward: 0.716\n",
            "Episode: 11000 - epsilon: 0.25 - average reward: 0.736\n",
            "Episode: 12000 - epsilon: 0.25 - average reward: 0.736\n",
            "Episode: 13000 - epsilon: 0.25 - average reward: 0.726\n",
            "Episode: 14000 - epsilon: 0.25 - average reward: 0.725\n",
            "Episode: 15000 - epsilon: 0.25 - average reward: 0.714\n",
            "Episode: 16000 - epsilon: 0.25 - average reward: 0.648\n",
            "Episode: 17000 - epsilon: 0.25 - average reward: 0.719\n",
            "Episode: 18000 - epsilon: 0.25 - average reward: 0.622\n",
            "Episode: 19000 - epsilon: 0.25 - average reward: 0.708\n",
            "Episode: 20000 - epsilon: 0.25 - average reward: 0.751\n"
          ],
          "name": "stdout"
        }
      ]
    },
    {
      "cell_type": "code",
      "metadata": {
        "id": "B-NZJUjPHVyM",
        "colab_type": "code",
        "colab": {}
      },
      "source": [
        "def perform_rl_algorithm_multiple_times(env, num_times=100, num_training_episodes=20001, validation_interval=1000, alpha=0.01, gamma=0.95, epsilon_start=0.1, epsilon_min=0.01, epsilon_decay_rate=0.0):\n",
        "    \"\"\"\n",
        "    If we run an algorithm with some hyperparameter settings only once, \n",
        "    its success or failure can be merely due to chance.\n",
        "    To verify more accurately the performance of an algorithm and its certain hyperparameter settings,\n",
        "    we need to run the algorithm with such hyperparameter settings multiple times.\n",
        "    \"\"\"\n",
        "    all_history = []\n",
        "\n",
        "    for i in range(num_times):\n",
        "        print('Run {}'.format(i))\n",
        "        q_values, history_reward = q_learning(env, num_training_episodes, validation_interval, alpha, gamma, epsilon_start, epsilon_min, epsilon_decay_rate, tracking=False)\n",
        "        all_history.append(history_reward)\n",
        "    \n",
        "    mean_reward = np.array(all_history)\n",
        "    mean_reward = np.mean(mean_reward, axis=0)\n",
        "    mean_reward = np.vstack((np.arange(num_training_episodes, step=validation_interval),mean_reward))\n",
        "    #print(meam_reward)\n",
        "    return mean_reward"
      ],
      "execution_count": null,
      "outputs": []
    },
    {
      "cell_type": "code",
      "metadata": {
        "id": "5DR-nbRhHbxb",
        "colab_type": "code",
        "colab": {
          "base_uri": "https://localhost:8080/",
          "height": 187
        },
        "outputId": "334da08e-091d-46b3-bda0-5293c83c67cc"
      },
      "source": [
        "# Let's try q-learing with epsilon-greedy having a small fixed epsilon value\n",
        "mean_reward_small_epsilon = perform_rl_algorithm_multiple_times(env, num_times=10,\n",
        "                                                  num_training_episodes=20001,\n",
        "                                                  validation_interval=1000,\n",
        "                                                  alpha=0.02,\n",
        "                                                  gamma=0.95,\n",
        "                                                  epsilon_start=0.25,\n",
        "                                                  epsilon_min=0.01,\n",
        "                                                  epsilon_decay_rate=0.0\n",
        "                                                  )"
      ],
      "execution_count": null,
      "outputs": [
        {
          "output_type": "stream",
          "text": [
            "Run 0\n",
            "Run 1\n",
            "Run 2\n",
            "Run 3\n",
            "Run 4\n",
            "Run 5\n",
            "Run 6\n",
            "Run 7\n",
            "Run 8\n",
            "Run 9\n"
          ],
          "name": "stdout"
        }
      ]
    },
    {
      "cell_type": "code",
      "metadata": {
        "id": "h4Hl-iycHeLM",
        "colab_type": "code",
        "colab": {
          "base_uri": "https://localhost:8080/",
          "height": 187
        },
        "outputId": "3990d832-3861-4b4d-af87-e78f003e1c65"
      },
      "source": [
        "# Let's try q-learning with epsilon-greedy and the epsilon value is decayed over time\n",
        "mean_reward_epsilon_decay = perform_rl_algorithm_multiple_times(env, num_times=10,\n",
        "                                                  num_training_episodes=20001,\n",
        "                                                  validation_interval=1000,\n",
        "                                                  alpha=0.02,\n",
        "                                                  gamma=0.95,\n",
        "                                                  epsilon_start=0.25,\n",
        "                                                  epsilon_min=0.01,\n",
        "                                                  epsilon_decay_rate=0.00005\n",
        "                                                  )"
      ],
      "execution_count": null,
      "outputs": [
        {
          "output_type": "stream",
          "text": [
            "Run 0\n",
            "Run 1\n",
            "Run 2\n",
            "Run 3\n",
            "Run 4\n",
            "Run 5\n",
            "Run 6\n",
            "Run 7\n",
            "Run 8\n",
            "Run 9\n"
          ],
          "name": "stdout"
        }
      ]
    },
    {
      "cell_type": "code",
      "metadata": {
        "id": "6KX6yzPyHhlA",
        "colab_type": "code",
        "colab": {}
      },
      "source": [
        "import matplotlib.pyplot as plt\n",
        "%matplotlib inline"
      ],
      "execution_count": null,
      "outputs": []
    },
    {
      "cell_type": "code",
      "metadata": {
        "id": "__VTXwdYIg4I",
        "colab_type": "code",
        "colab": {
          "base_uri": "https://localhost:8080/",
          "height": 300
        },
        "outputId": "9b4ee650-1128-4fc6-fd98-7d86177f283a"
      },
      "source": [
        "# Which algorithm/hyperparameter setting has the faster speed?\n",
        "plt.xlabel('Training Episode')\n",
        "plt.ylabel('Success Rate')\n",
        "plt.ylim([-0.05,1])\n",
        "plt.plot(mean_reward_small_epsilon[0],mean_reward_small_epsilon[1], 'b-', label='epsilon=0.25')\n",
        "plt.plot(mean_reward_epsilon_decay[0], mean_reward_epsilon_decay[1], 'r-', label='epsilon decay')\n",
        "plt.legend()"
      ],
      "execution_count": null,
      "outputs": [
        {
          "output_type": "execute_result",
          "data": {
            "text/plain": [
              "<matplotlib.legend.Legend at 0x7fa034dbc630>"
            ]
          },
          "metadata": {
            "tags": []
          },
          "execution_count": 95
        },
        {
          "output_type": "display_data",
          "data": {
            "image/png": "[encoded data removed]",
            "text/plain": [
              "<Figure size 432x288 with 1 Axes>"
            ]
          },
          "metadata": {
            "tags": [],
            "needs_background": "light"
          }
        }
      ]
    },
    {
      "cell_type": "markdown",
      "metadata": {
        "id": "tzmGRvUgUznN",
        "colab_type": "text"
      },
      "source": [
        "Q-Learning:\n",
        "1. Thuật toán Value Iteration khi giải quyết game FrozenLake-v0 chúng ta có trung bình 712 lần thành công nếu chơi 1000 episodes.\n",
        "2. Nếu tăng learning rate alpha lên quá cao thì:\n",
        "+ Thuật toán Q_learning sẽ không hội tụ.\n",
        "+ Giá trị reward nhận được qua các mỗi lượt thử sẽ khác biệt nhau rất lớn.\n",
        "3. Giá trị của epsilon hợp lý với FrozenLake-v0 là 0.25.\n",
        "4. Khi thiết lập 1 giá trị epsilon cố định và Khi thiết lập epsilon với giá trị giảm dần theo thời gian thì performance của Q-Learning gần như bằng nhau.\n",
        "5. Bộ hyperparameter settings (alpha = 0.02, gamma = 0.95, epsilon_start = 0.25, epsilon_decay_rate = 0.00005) có kết quả rất tốt.\n",
        "\n",
        "  \n"
      ]
    },
    {
      "cell_type": "code",
      "metadata": {
        "id": "pQgVpkUUdfaA",
        "colab_type": "code",
        "colab": {}
      },
      "source": [
        "import numpy as np\n",
        "import gym\n",
        "env = gym.make('FrozenLake-v0')"
      ],
      "execution_count": null,
      "outputs": []
    },
    {
      "cell_type": "code",
      "metadata": {
        "id": "xLcPQkJWeI8i",
        "colab_type": "code",
        "colab": {}
      },
      "source": [
        "# SARSA\n",
        "def sarsa(env, num_training_episodes=20001, validation_interval=1000, alpha=0.01, gamma=0.9, epsilon_start=0.1, epsilon_min=0.01, epsilon_decay_rate=0.00005, tracking=False):\n",
        "    # Initialize Q(s,a) table\n",
        "    q_values = np.zeros((env.observation_space.n, env.action_space.n))\n",
        "\n",
        "    history_rewards = []\n",
        "\n",
        "    # Train the agent by playing multiple episodes and gain experience\n",
        "    for episode in range(num_training_episodes):\n",
        "        # Reset the environment and get the starting state\n",
        "        state = env.reset()\n",
        "        done = False\n",
        "        total_reward = 0\n",
        "\n",
        "        # If epsilon_decay_rate is 0.0, the value of epsilon is fixed at its starting value\n",
        "        if epsilon_decay_rate == 0.0:\n",
        "            epsilon = epsilon_start\n",
        "        else:\n",
        "            epsilon = epsilon_min + (epsilon_start - epsilon_min)*np.exp(-epsilon_decay_rate*episode)\n",
        "        \n",
        "        # Play one episode\n",
        "        while not done:\n",
        "            # Choose an action following an epsilon-greedy policy\n",
        "            if np.random.uniform(0,1) < epsilon:\n",
        "                action = np.random.randint(env.action_space.n)\n",
        "            else:\n",
        "                action = np.argmax(q_values[state])\n",
        "            \n",
        "            # Take the chosen action and observe the experience\n",
        "            next_state, reward, done, info = env.step(action)\n",
        "\n",
        "            # Choose an next_action following an epsilon-greedy policy\n",
        "            if np.random.uniform(0,1) < epsilon:\n",
        "                next_action = np.random.randint(env.action_space.n)\n",
        "            else:\n",
        "                next_action = np.argmax(q_values[next_state])\n",
        "\n",
        "            # Use the observation to update Q(s,a)\n",
        "            q_values[state,action] = (1-alpha)*q_values[state,action] + alpha*(reward + gamma * q_values[next_state, next_action])\n",
        "\n",
        "            total_reward += reward\n",
        "\n",
        "            state = next_state\n",
        "            action = next_action\n",
        "\n",
        "        # After every validation_interval episode, we evaluate the policy obtained so far\n",
        "        # by using it to play 1000 games and computing the average reward.\n",
        "        if (episode % validation_interval) == 0:\n",
        "            avg_reward = play_multiple_times(env, q_values, num_validation_episodes=1000)\n",
        "            history_rewards.append(avg_reward)\n",
        "            if tracking:\n",
        "                print('Episode: {} - epsilon: {} - average reward: {}'.format(episode, epsilon, avg_reward))\n",
        "\n",
        "    return q_values, history_rewards"
      ],
      "execution_count": null,
      "outputs": []
    },
    {
      "cell_type": "code",
      "metadata": {
        "id": "UL9OeBGQkM6f",
        "colab_type": "code",
        "colab": {}
      },
      "source": [
        "def play_multiple_times(env, q_values, num_validation_episodes=1000):\n",
        "    \"\"\"\n",
        "    Check the quality of the policy encoded by the Q-value table.\n",
        "    Use that policy to play multiple games, and get the average reward.\n",
        "    \"\"\"\n",
        "    all_rewards = []\n",
        "\n",
        "    for episode in range(num_validation_episodes):\n",
        "        state = env.reset()\n",
        "        done = False\n",
        "        episode_reward = 0\n",
        "\n",
        "        while not done:\n",
        "            action = np.argmax(q_values[state])\n",
        "            next_state, reward, done, info = env.step(action)\n",
        "\n",
        "            episode_reward += reward\n",
        "            state = next_state\n",
        "            if done:\n",
        "                all_rewards.append(episode_reward)\n",
        "    \n",
        "    return np.mean(all_rewards)"
      ],
      "execution_count": null,
      "outputs": []
    },
    {
      "cell_type": "code",
      "metadata": {
        "id": "lg0tuI_Akfqu",
        "colab_type": "code",
        "colab": {
          "base_uri": "https://localhost:8080/",
          "height": 374
        },
        "outputId": "8cee53fb-f4fe-4d25-ed46-79ccb51ed4cf"
      },
      "source": [
        "# Let's run this line of code multiple times.\n",
        "# Does it succeed to find a good policy all the times?\n",
        "q_values, history_rewards = sarsa(env, num_training_episodes=20001, \n",
        "           validation_interval=1000, alpha=0.015, gamma=0.96, \n",
        "           epsilon_start=0.4, epsilon_min=0.01, epsilon_decay_rate=0.0,\n",
        "           tracking=True)"
      ],
      "execution_count": null,
      "outputs": [
        {
          "output_type": "stream",
          "text": [
            "Episode: 0 - epsilon: 0.4 - average reward: 0.0\n",
            "Episode: 1000 - epsilon: 0.4 - average reward: 0.036\n",
            "Episode: 2000 - epsilon: 0.4 - average reward: 0.044\n",
            "Episode: 3000 - epsilon: 0.4 - average reward: 0.122\n",
            "Episode: 4000 - epsilon: 0.4 - average reward: 0.194\n",
            "Episode: 5000 - epsilon: 0.4 - average reward: 0.257\n",
            "Episode: 6000 - epsilon: 0.4 - average reward: 0.313\n",
            "Episode: 7000 - epsilon: 0.4 - average reward: 0.635\n",
            "Episode: 8000 - epsilon: 0.4 - average reward: 0.643\n",
            "Episode: 9000 - epsilon: 0.4 - average reward: 0.656\n",
            "Episode: 10000 - epsilon: 0.4 - average reward: 0.643\n",
            "Episode: 11000 - epsilon: 0.4 - average reward: 0.646\n",
            "Episode: 12000 - epsilon: 0.4 - average reward: 0.727\n",
            "Episode: 13000 - epsilon: 0.4 - average reward: 0.734\n",
            "Episode: 14000 - epsilon: 0.4 - average reward: 0.689\n",
            "Episode: 15000 - epsilon: 0.4 - average reward: 0.713\n",
            "Episode: 16000 - epsilon: 0.4 - average reward: 0.738\n",
            "Episode: 17000 - epsilon: 0.4 - average reward: 0.664\n",
            "Episode: 18000 - epsilon: 0.4 - average reward: 0.715\n",
            "Episode: 19000 - epsilon: 0.4 - average reward: 0.639\n",
            "Episode: 20000 - epsilon: 0.4 - average reward: 0.701\n"
          ],
          "name": "stdout"
        }
      ]
    },
    {
      "cell_type": "code",
      "metadata": {
        "id": "DQB1dlVIkn_D",
        "colab_type": "code",
        "colab": {}
      },
      "source": [
        "def perform_rl_algorithm_multiple_times(env, num_times=100, num_training_episodes=20001, validation_interval=1000, alpha=0.01, gamma=0.95, epsilon_start=0.1, epsilon_min=0.01, epsilon_decay_rate=0.0):\n",
        "    \"\"\"\n",
        "    If we run an algorithm with some hyperparameter settings only once, \n",
        "    its success or failure can be merely due to chance.\n",
        "    To verify more accurately the performance of an algorithm and its certain hyperparameter settings,\n",
        "    we need to run the algorithm with such hyperparameter settings multiple times.\n",
        "    \"\"\"\n",
        "    all_history = []\n",
        "\n",
        "    for i in range(num_times):\n",
        "        print('Run {}'.format(i))\n",
        "        q_values, history_reward = sarsa(env, num_training_episodes, validation_interval, alpha, gamma, epsilon_start, epsilon_min, epsilon_decay_rate, tracking=False)\n",
        "        all_history.append(history_reward)\n",
        "    \n",
        "    mean_reward = np.array(all_history)\n",
        "    mean_reward = np.mean(mean_reward, axis=0)\n",
        "    mean_reward = np.vstack((np.arange(num_training_episodes, step=validation_interval),mean_reward))\n",
        "    #print(meam_reward)\n",
        "    return mean_reward"
      ],
      "execution_count": null,
      "outputs": []
    },
    {
      "cell_type": "code",
      "metadata": {
        "id": "qirRrNbrk4UQ",
        "colab_type": "code",
        "colab": {
          "base_uri": "https://localhost:8080/",
          "height": 187
        },
        "outputId": "197dc1e2-afd0-441a-d9aa-763614fb0059"
      },
      "source": [
        "# Let's try sarsa with epsilon-greedy having a small fixed epsilon value\n",
        "mean_reward_small_epsilonB = perform_rl_algorithm_multiple_times(env, num_times=10,\n",
        "                                                  num_training_episodes=20001,\n",
        "                                                  validation_interval=1000,\n",
        "                                                  alpha=0.015,\n",
        "                                                  gamma=0.96,\n",
        "                                                  epsilon_start=0.4,\n",
        "                                                  epsilon_min=0.01,\n",
        "                                                  epsilon_decay_rate=0.0\n",
        "                                                  )"
      ],
      "execution_count": null,
      "outputs": [
        {
          "output_type": "stream",
          "text": [
            "Run 0\n",
            "Run 1\n",
            "Run 2\n",
            "Run 3\n",
            "Run 4\n",
            "Run 5\n",
            "Run 6\n",
            "Run 7\n",
            "Run 8\n",
            "Run 9\n"
          ],
          "name": "stdout"
        }
      ]
    },
    {
      "cell_type": "code",
      "metadata": {
        "id": "9tw4jV5Ek_GT",
        "colab_type": "code",
        "colab": {
          "base_uri": "https://localhost:8080/",
          "height": 187
        },
        "outputId": "42de9a5d-769a-4137-b764-9a03a2e07b90"
      },
      "source": [
        "# Let's try sarsa with epsilon-greedy and the epsilon value is decayed over time\n",
        "mean_reward_epsilon_decayB = perform_rl_algorithm_multiple_times(env, num_times=10,\n",
        "                                                  num_training_episodes=20001,\n",
        "                                                  validation_interval=1000,\n",
        "                                                  alpha=0.015,\n",
        "                                                  gamma=0.96,\n",
        "                                                  epsilon_start=0.4,\n",
        "                                                  epsilon_min=0.01,\n",
        "                                                  epsilon_decay_rate=0.00005\n",
        "                                                  )"
      ],
      "execution_count": null,
      "outputs": [
        {
          "output_type": "stream",
          "text": [
            "Run 0\n",
            "Run 1\n",
            "Run 2\n",
            "Run 3\n",
            "Run 4\n",
            "Run 5\n",
            "Run 6\n",
            "Run 7\n",
            "Run 8\n",
            "Run 9\n"
          ],
          "name": "stdout"
        }
      ]
    },
    {
      "cell_type": "code",
      "metadata": {
        "id": "qCm9DrEllJjv",
        "colab_type": "code",
        "colab": {
          "base_uri": "https://localhost:8080/",
          "height": 300
        },
        "outputId": "38c5f267-e8b5-45bd-98fd-e3140a981949"
      },
      "source": [
        "import matplotlib.pyplot as plt\n",
        "%matplotlib inline\n",
        "# Which algorithm/hyperparameter setting has the faster speed?\n",
        "plt.xlabel('Training Episode')\n",
        "plt.ylabel('Success Rate')\n",
        "plt.ylim([-0.05,1])\n",
        "plt.plot(mean_reward_small_epsilonB[0],mean_reward_small_epsilonB[1], 'b-', label='epsilon=0.4')\n",
        "plt.plot(mean_reward_epsilon_decayB[0], mean_reward_epsilon_decayB[1], 'r-', label='epsilon decay')\n",
        "plt.legend()"
      ],
      "execution_count": null,
      "outputs": [
        {
          "output_type": "execute_result",
          "data": {
            "text/plain": [
              "<matplotlib.legend.Legend at 0x7fa0351e6550>"
            ]
          },
          "metadata": {
            "tags": []
          },
          "execution_count": 104
        },
        {
          "output_type": "display_data",
          "data": {
            "image/png": "[encoded data removed]",
            "text/plain": [
              "<Figure size 432x288 with 1 Axes>"
            ]
          },
          "metadata": {
            "tags": [],
            "needs_background": "light"
          }
        }
      ]
    },
    {
      "cell_type": "markdown",
      "metadata": {
        "id": "kIuo8-rItbxl",
        "colab_type": "text"
      },
      "source": [
        "Đồ thị kết quả so sánh performance của Q-Learning và SARSA "
      ]
    },
    {
      "cell_type": "code",
      "metadata": {
        "id": "uoG4H_97ta68",
        "colab_type": "code",
        "colab": {
          "base_uri": "https://localhost:8080/",
          "height": 300
        },
        "outputId": "454b3bab-b14d-4da6-8adb-0b30cfe10a2c"
      },
      "source": [
        "plt.xlabel('Training Episode')\n",
        "plt.ylabel('Success Rate')\n",
        "plt.ylim([-0.05,1])\n",
        "plt.plot(mean_reward_small_epsilon[0],mean_reward_small_epsilon[1], 'b-', label='Q-Learning')\n",
        "plt.plot(mean_reward_epsilon_decayB[0], mean_reward_epsilon_decayB[1], 'r-', label='SARSA')\n",
        "plt.legend()"
      ],
      "execution_count": null,
      "outputs": [
        {
          "output_type": "execute_result",
          "data": {
            "text/plain": [
              "<matplotlib.legend.Legend at 0x7fa034e9be80>"
            ]
          },
          "metadata": {
            "tags": []
          },
          "execution_count": 105
        },
        {
          "output_type": "display_data",
          "data": {
            "image/png": "[encoded data removed]",
            "text/plain": [
              "<Figure size 432x288 with 1 Axes>"
            ]
          },
          "metadata": {
            "tags": [],
            "needs_background": "light"
          }
        }
      ]
    },
    {
      "cell_type": "markdown",
      "metadata": {
        "id": "eoXYrs8ht1Ee",
        "colab_type": "text"
      },
      "source": [
        "1. Giá trị của epsilon hợp lý với FrozenLake-v0 là 0.4.\n",
        "2. Khi thiết lập 1 giá trị epsilon cố định và Khi thiết lập epsilon với giá trị giảm dần theo thời gian thì performance của SARSA gần như bằng nhau.\n",
        "3. Bộ hyperparameter settings (alpha = 0.015, gamma = 0.96, epsilon_start = 0.4, epsilon_decay_rate = 0.00005) có kết quả rất tốt.\n",
        "\n",
        "  "
      ]
    }
  ]
}