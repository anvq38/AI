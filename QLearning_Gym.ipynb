{
  "nbformat": 4,
  "nbformat_minor": 0,
  "metadata": {
    "colab": {
      "name": "QLearning_Gym.ipynb",
      "provenance": [],
      "collapsed_sections": [],
      "include_colab_link": true
    },
    "kernelspec": {
      "name": "python3",
      "display_name": "Python 3"
    }
  },
  "cells": [
    {
      "cell_type": "markdown",
      "metadata": {
        "id": "view-in-github",
        "colab_type": "text"
      },
      "source": [
        "<a href=\"https://colab.research.google.com/github/anvq38/AI/blob/master/QLearning_Gym.ipynb\" target=\"_parent\"><img src=\"https://colab.research.google.com/assets/colab-badge.svg\" alt=\"Open In Colab\"/></a>"
      ]
    },
    {
      "cell_type": "code",
      "metadata": {
        "id": "3o7ysu2ew77y",
        "colab_type": "code",
        "colab": {}
      },
      "source": [
        "import numpy as np\n",
        "import gym\n",
        "env = gym.make('FrozenLake-v0')"
      ],
      "execution_count": 0,
      "outputs": []
    },
    {
      "cell_type": "code",
      "metadata": {
        "id": "XjvOucS3xFRB",
        "colab_type": "code",
        "colab": {}
      },
      "source": [
        "def q_learning(env, num_training_episodes=20001, validation_interval=1000, alpha=0.01, gamma=0.9, epsilon_start=0.1, epsilon_min=0.01, epsilon_decay_rate=0.00005, tracking=False):\n",
        "    # Initialize Q(s,a) table\n",
        "    q_values = np.zeros((env.observation_space.n, env.action_space.n))\n",
        "\n",
        "    history_rewards = []\n",
        "\n",
        "    # Train the agent by playing multiple episodes and gain experience\n",
        "    for episode in range(num_training_episodes):\n",
        "        # Reset the environment and get the starting state\n",
        "        state = env.reset()\n",
        "        done = False\n",
        "        total_reward = 0\n",
        "\n",
        "        # If epsilon_decay_rate is 0.0, the value of epsilon is fixed at its starting value\n",
        "        if epsilon_decay_rate == 0.0:\n",
        "            epsilon = epsilon_start\n",
        "        else:\n",
        "            epsilon = epsilon_min + (epsilon_start - epsilon_min)*np.exp(-epsilon_decay_rate*episode)\n",
        "        \n",
        "        # Play one episode\n",
        "        while not done:\n",
        "            # Choose an action following an epsilon-greedy policy\n",
        "            if np.random.uniform(0,1) < epsilon:\n",
        "                action = np.random.randint(env.action_space.n)\n",
        "            else:\n",
        "                action = np.argmax(q_values[state])\n",
        "            \n",
        "            # Take the chosen action and observe the experience\n",
        "            next_state, reward, done, info = env.step(action)\n",
        "\n",
        "            # Use the observation to update Q(s,a)\n",
        "            q_values[state,action] = (1-alpha)*q_values[state,action] + alpha*(reward + gamma * np.max(q_values[next_state]))\n",
        "\n",
        "            total_reward += reward\n",
        "\n",
        "            state = next_state\n",
        "\n",
        "        # After every validation_interval episode, we evaluate the policy obtained so far\n",
        "        # by using it to play 1000 games and computing the average reward.\n",
        "        if (episode % validation_interval) == 0:\n",
        "            avg_reward = play_multiple_times(env, q_values, num_validation_episodes=1000)\n",
        "            history_rewards.append(avg_reward)\n",
        "            if tracking:\n",
        "                print('Episode: {} - epsilon: {} - average reward: {}'.format(episode, epsilon, avg_reward))\n",
        "\n",
        "    return q_values, history_rewards"
      ],
      "execution_count": 0,
      "outputs": []
    },
    {
      "cell_type": "code",
      "metadata": {
        "id": "LLfY8BWaz7z6",
        "colab_type": "code",
        "colab": {}
      },
      "source": [
        "def play_multiple_times(env, q_values, num_validation_episodes=1000):\n",
        "    \"\"\"\n",
        "    Check the quality of the policy encoded by the Q-value table.\n",
        "    Use that policy to play multiple games, and get the average reward.\n",
        "    \"\"\"\n",
        "    all_rewards = []\n",
        "\n",
        "    for episode in range(num_validation_episodes):\n",
        "        state = env.reset()\n",
        "        done = False\n",
        "        episode_reward = 0\n",
        "\n",
        "        while not done:\n",
        "            action = np.argmax(q_values[state])\n",
        "            next_state, reward, done, info = env.step(action)\n",
        "\n",
        "            episode_reward += reward\n",
        "            state = next_state\n",
        "            if done:\n",
        "                all_rewards.append(episode_reward)\n",
        "    \n",
        "    return np.mean(all_rewards)"
      ],
      "execution_count": 0,
      "outputs": []
    },
    {
      "cell_type": "code",
      "metadata": {
        "id": "2Ms_m2LOHQA7",
        "colab_type": "code",
        "outputId": "dc390054-5fd6-4444-a7e8-a077c92306ef",
        "colab": {
          "base_uri": "https://localhost:8080/",
          "height": 374
        }
      },
      "source": [
        "# Let's run this line of code multiple times.\n",
        "# Does it succeed to find a good policy all the times?\n",
        "q_values, history_rewards = q_learning(env, num_training_episodes=20001, \n",
        "           validation_interval=1000, alpha=0.01, gamma=0.95, \n",
        "           epsilon_start=0.1, epsilon_min=0.01, epsilon_decay_rate=0.0,\n",
        "           tracking=True)"
      ],
      "execution_count": 0,
      "outputs": [
        {
          "output_type": "stream",
          "text": [
            "Episode: 0 - epsilon: 0.1 - average reward: 0.0\n",
            "Episode: 1000 - epsilon: 0.1 - average reward: 0.0\n",
            "Episode: 2000 - epsilon: 0.1 - average reward: 0.0\n",
            "Episode: 3000 - epsilon: 0.1 - average reward: 0.09\n",
            "Episode: 4000 - epsilon: 0.1 - average reward: 0.104\n",
            "Episode: 5000 - epsilon: 0.1 - average reward: 0.1\n",
            "Episode: 6000 - epsilon: 0.1 - average reward: 0.091\n",
            "Episode: 7000 - epsilon: 0.1 - average reward: 0.245\n",
            "Episode: 8000 - epsilon: 0.1 - average reward: 0.221\n",
            "Episode: 9000 - epsilon: 0.1 - average reward: 0.232\n",
            "Episode: 10000 - epsilon: 0.1 - average reward: 0.217\n",
            "Episode: 11000 - epsilon: 0.1 - average reward: 0.356\n",
            "Episode: 12000 - epsilon: 0.1 - average reward: 0.381\n",
            "Episode: 13000 - epsilon: 0.1 - average reward: 0.699\n",
            "Episode: 14000 - epsilon: 0.1 - average reward: 0.708\n",
            "Episode: 15000 - epsilon: 0.1 - average reward: 0.685\n",
            "Episode: 16000 - epsilon: 0.1 - average reward: 0.709\n",
            "Episode: 17000 - epsilon: 0.1 - average reward: 0.713\n",
            "Episode: 18000 - epsilon: 0.1 - average reward: 0.699\n",
            "Episode: 19000 - epsilon: 0.1 - average reward: 0.724\n",
            "Episode: 20000 - epsilon: 0.1 - average reward: 0.742\n"
          ],
          "name": "stdout"
        }
      ]
    },
    {
      "cell_type": "code",
      "metadata": {
        "id": "ZOUzMd9f2BhB",
        "colab_type": "code",
        "colab": {}
      },
      "source": [
        "def perform_rl_algorithm_multiple_times(env, num_times=100, num_training_episodes=20001, validation_interval=1000, alpha=0.01, gamma=0.95, epsilon_start=0.1, epsilon_min=0.01, epsilon_decay_rate=0.0):\n",
        "    \"\"\"\n",
        "    If we run an algorithm with some hyperparameter settings only once, \n",
        "    its success or failure can be merely due to chance.\n",
        "    To verify more accurately the performance of an algorithm and its certain hyperparameter settings,\n",
        "    we need to run the algorithm with such hyperparameter settings multiple times.\n",
        "    \"\"\"\n",
        "    all_history = []\n",
        "\n",
        "    for i in range(num_times):\n",
        "        print('Run {}'.format(i))\n",
        "        q_values, history_reward = q_learning(env, num_training_episodes, validation_interval, alpha, gamma, epsilon_start, epsilon_min, epsilon_decay_rate, tracking=False)\n",
        "        all_history.append(history_reward)\n",
        "    \n",
        "    mean_reward = np.array(all_history)\n",
        "    mean_reward = np.mean(mean_reward, axis=0)\n",
        "    mean_reward = np.vstack((np.arange(num_training_episodes, step=validation_interval),mean_reward))\n",
        "    return mean_reward"
      ],
      "execution_count": 0,
      "outputs": []
    },
    {
      "cell_type": "code",
      "metadata": {
        "id": "b6VxHclQ5CoR",
        "colab_type": "code",
        "outputId": "4f724b98-353a-40e3-9d63-dc4819243e1f",
        "colab": {
          "base_uri": "https://localhost:8080/",
          "height": 187
        }
      },
      "source": [
        "# Let's try q-learing with epsilon-greedy having a small fixed epsilon value\n",
        "mean_reward_small_epsilon = perform_rl_algorithm_multiple_times(env, num_times=10,\n",
        "                                                  num_training_episodes=20001,\n",
        "                                                  validation_interval=1000,\n",
        "                                                  alpha=0.01,\n",
        "                                                  gamma=0.95,\n",
        "                                                  epsilon_start=0.1,\n",
        "                                                  epsilon_min=0.01,\n",
        "                                                  epsilon_decay_rate=0.0\n",
        "                                                  )"
      ],
      "execution_count": 0,
      "outputs": [
        {
          "output_type": "stream",
          "text": [
            "Run 0\n",
            "Run 1\n",
            "Run 2\n",
            "Run 3\n",
            "Run 4\n",
            "Run 5\n",
            "Run 6\n",
            "Run 7\n",
            "Run 8\n",
            "Run 9\n"
          ],
          "name": "stdout"
        }
      ]
    },
    {
      "cell_type": "code",
      "metadata": {
        "id": "vdTNO0Ju8k30",
        "colab_type": "code",
        "outputId": "61286a8d-5987-4204-8d5f-e212ceb4f308",
        "colab": {
          "base_uri": "https://localhost:8080/",
          "height": 187
        }
      },
      "source": [
        "# Let's try q-learning with epsilon-greedy and the epsilon value is decayed over time\n",
        "mean_reward_epsilon_decay = perform_rl_algorithm_multiple_times(env, num_times=10,\n",
        "                                                  num_training_episodes=20001,\n",
        "                                                  validation_interval=1000,\n",
        "                                                  alpha=0.01,\n",
        "                                                  gamma=0.95,\n",
        "                                                  epsilon_start=1.0,\n",
        "                                                  epsilon_min=0.01,\n",
        "                                                  epsilon_decay_rate=0.00005\n",
        "                                                  )"
      ],
      "execution_count": 0,
      "outputs": [
        {
          "output_type": "stream",
          "text": [
            "Run 0\n",
            "Run 1\n",
            "Run 2\n",
            "Run 3\n",
            "Run 4\n",
            "Run 5\n",
            "Run 6\n",
            "Run 7\n",
            "Run 8\n",
            "Run 9\n"
          ],
          "name": "stdout"
        }
      ]
    },
    {
      "cell_type": "code",
      "metadata": {
        "id": "ZEp7V2aBrsNS",
        "colab_type": "code",
        "colab": {}
      },
      "source": [
        "import matplotlib.pyplot as plt\n",
        "%matplotlib inline"
      ],
      "execution_count": 0,
      "outputs": []
    },
    {
      "cell_type": "code",
      "metadata": {
        "id": "1pnibky6xh_i",
        "colab_type": "code",
        "outputId": "0fec0efa-23eb-47f7-b1a8-726fe6bca7a5",
        "colab": {
          "base_uri": "https://localhost:8080/",
          "height": 300
        }
      },
      "source": [
        "# Which algorithm/hyperparameter setting has the faster speed?\n",
        "plt.xlabel('Training Episode')\n",
        "plt.ylabel('Success Rate')\n",
        "plt.ylim([-0.05,1])\n",
        "plt.plot(mean_reward_small_epsilon[0],mean_reward_small_epsilon[1], 'b-', label='epsilon=0.1')\n",
        "plt.plot(mean_reward_epsilon_decay[0], mean_reward_epsilon_decay[1], 'r-', label='epsilon decay')\n",
        "plt.legend()"
      ],
      "execution_count": 0,
      "outputs": [
        {
          "output_type": "execute_result",
          "data": {
            "text/plain": [
              "<matplotlib.legend.Legend at 0x7fea1cfc6390>"
            ]
          },
          "metadata": {
            "tags": []
          },
          "execution_count": 142
        },
        {
          "output_type": "display_data",
          "data": {
            "image/png": "[encoded data removed]",
            "text/plain": [
              "<Figure size 432x288 with 1 Axes>"
            ]
          },
          "metadata": {
            "tags": [],
            "needs_background": "light"
          }
        }
      ]
    },
    {
      "cell_type": "code",
      "metadata": {
        "id": "9aVlTRinxqgY",
        "colab_type": "code",
        "colab": {}
      },
      "source": [
        ""
      ],
      "execution_count": 0,
      "outputs": []
    }
  ]
}